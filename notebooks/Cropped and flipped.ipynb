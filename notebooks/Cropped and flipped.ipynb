{
 "cells": [
  {
   "cell_type": "code",
   "execution_count": 3,
   "id": "62fc4cf1",
   "metadata": {},
   "outputs": [],
   "source": [
    "import os\n",
    "import json\n",
    "from tqdm import tqdm\n",
    "import warnings\n",
    "\n",
    "import numpy as np\n",
    "import matplotlib.pyplot as plt\n",
    "%matplotlib inline\n",
    "\n",
    "from dpipe.io import load\n",
    "from dpipe.dataset.wrappers import apply, cache_methods\n",
    "from dpipe.im.metrics import dice_score, iou\n",
    "from ood.dataset.cc359 import CC359\n",
    "from ood.dataset.utils import Rescale3D, scale_mri\n",
    "from ood.paths import CC359_DATA_PATH\n",
    "from ood.torch.module.unet_mc_dropout import UNet3D_MC_Dropout\n",
    "from ood.utils import sdice\n",
    "from ood.metric.ood_metric import calc_ood_scores\n",
    "from ood.batch_iter.augmentations import rotate90, flip\n",
    "\n",
    "\n",
    "data_path = CC359_DATA_PATH\n",
    "\n",
    "# if `voxel_spacing[i]` is `None` when `i`-th dimension will be used without scaling\n",
    "voxel_spacing = (1, 0.95, 0.95)\n",
    "sdice_metric = lambda x, y, i: sdice(x, y, dataset.load_spacing(i), 1)\n",
    "\n",
    "preprocessed_dataset = apply(Rescale3D(CC359(data_path), voxel_spacing), load_image=scale_mri)\n",
    "dataset = apply(cache_methods(apply(preprocessed_dataset, load_image=np.float16), maxsize=30), \n",
    "                load_image=np.float32)\n",
    "\n",
    "in_distr_id = 1\n",
    "n_folds = 6\n",
    "ood_ids = [i for i in range(n_folds) if i != in_distr_id]\n",
    "n_seeds = 5\n",
    "bin_threshold = 0.5\n",
    "eps = 1e-8\n",
    "\n",
    "experiment_dir = '/mount/sdc/experiments/ood_playground/cc359/'"
   ]
  },
  {
   "cell_type": "code",
   "execution_count": 4,
   "id": "304f333c",
   "metadata": {},
   "outputs": [
    {
     "name": "stdout",
     "output_type": "stream",
     "text": [
      "In distribution: 0.9815540329213228\n",
      "OOD fold 0: 0.9517428535411991\n",
      "OOD fold 2: 0.6994646067404594\n",
      "OOD fold 3: 0.9605608577911162\n",
      "OOD fold 4: 0.9150867130799113\n",
      "OOD fold 5: 0.8859726581648507\n",
      "Fold 0:\tood = True\t 0.9517428535411991 ± 0.0\n",
      "Fold 1:\tood = False\t 0.9815540329213228 ± 0.0\n",
      "Fold 2:\tood = True\t 0.6994646067404594 ± 0.0\n",
      "Fold 3:\tood = True\t 0.9605608577911162 ± 0.0\n",
      "Fold 4:\tood = True\t 0.9150867130799113 ± 0.0\n",
      "Fold 5:\tood = True\t 0.8859726581648507 ± 0.0\n",
      "\n",
      "In distr:\t 0.9815540329213228 ± 0.0\n",
      "OOD:\t\t 0.8825655378635073 ± 0.190712259111599\n"
     ]
    }
   ],
   "source": [
    "ood_metrics = np.zeros((n_folds, 1))\n",
    "\n",
    "for seed in [0]:\n",
    "    base_dir = os.path.join(experiment_dir, f'ensemble/seed{seed}/experiment_0/')\n",
    "    with open(os.path.join(base_dir, 'test_metrics', 'dice_score.json')) as file:\n",
    "        metrics = json.load(file)\n",
    "\n",
    "    ids = set(dataset.df[dataset.df['fold'] == in_distr_id].index)\n",
    "    metric_keys = set(metrics.keys())\n",
    "    ids = metric_keys.intersection(ids)\n",
    "\n",
    "    in_distr_metric = np.mean([metrics[uid] for uid in ids])\n",
    "    ood_metrics[in_distr_id, seed] = in_distr_metric\n",
    "    print('In distribution:', in_distr_metric)\n",
    "\n",
    "    for fold_id in ood_ids:\n",
    "        ids = list(dataset.df[dataset.df['fold'] == fold_id].index)\n",
    "\n",
    "        ood_metric = np.mean([metrics[uid] for uid in ids])\n",
    "        ood_metrics[fold_id, seed] = ood_metric\n",
    "        print(f'OOD fold {fold_id}:', ood_metric)\n",
    "        \n",
    "means = ood_metrics.mean(axis=1)\n",
    "stds = ood_metrics.std(axis=1)\n",
    "\n",
    "for i in range(n_folds):\n",
    "    print(f'Fold {i}:\\tood = {i != in_distr_id}\\t', means[i], '±', 2 * stds[i])\n",
    "    \n",
    "print()\n",
    "ood_ids = [i for i in range(n_folds) if i != in_distr_id]\n",
    "print('In distr:\\t', means[in_distr_id], '±', 2 * stds[in_distr_id])\n",
    "print('OOD:\\t\\t', ood_metrics[ood_ids].mean(), '±', 2 * ood_metrics[ood_ids].std())\n",
    "\n",
    "true_dice = means[in_distr_id]"
   ]
  },
  {
   "cell_type": "code",
   "execution_count": 5,
   "id": "f9ca56b6",
   "metadata": {},
   "outputs": [
    {
     "name": "stdout",
     "output_type": "stream",
     "text": [
      "In distribution: 0.9116250344277849\n",
      "OOD fold 0: 0.7130241475943397\n",
      "OOD fold 2: 0.19534337180512198\n",
      "OOD fold 3: 0.7531874316792503\n",
      "OOD fold 4: 0.6051681394580902\n",
      "OOD fold 5: 0.5313330565170565\n",
      "Fold 0:\tood = True\t 0.7130241475943397 ± 0.0\n",
      "Fold 1:\tood = False\t 0.9116250344277849 ± 0.0\n",
      "Fold 2:\tood = True\t 0.19534337180512198 ± 0.0\n",
      "Fold 3:\tood = True\t 0.7531874316792503 ± 0.0\n",
      "Fold 4:\tood = True\t 0.6051681394580902 ± 0.0\n",
      "Fold 5:\tood = True\t 0.5313330565170565 ± 0.0\n",
      "\n",
      "In distr:\t 0.9116250344277849 ± 0.0\n",
      "OOD:\t\t 0.5596112294107718 ± 0.39655862492212807\n"
     ]
    }
   ],
   "source": [
    "ood_metrics = np.zeros((n_folds, 1))\n",
    "\n",
    "for seed in [0]:\n",
    "    base_dir = os.path.join(experiment_dir, f'ensemble/seed{seed}/experiment_0/')\n",
    "    with open(os.path.join(base_dir, 'test_metrics', 'sdice_score.json')) as file:\n",
    "        metrics = json.load(file)\n",
    "\n",
    "    ids = set(dataset.df[dataset.df['fold'] == in_distr_id].index)\n",
    "    metric_keys = set(metrics.keys())\n",
    "    ids = metric_keys.intersection(ids)\n",
    "\n",
    "    in_distr_metric = np.mean([metrics[uid] for uid in ids])\n",
    "    ood_metrics[in_distr_id, seed] = in_distr_metric\n",
    "    print('In distribution:', in_distr_metric)\n",
    "\n",
    "    for fold_id in ood_ids:\n",
    "        ids = list(dataset.df[dataset.df['fold'] == fold_id].index)\n",
    "\n",
    "        ood_metric = np.mean([metrics[uid] for uid in ids])\n",
    "        ood_metrics[fold_id, seed] = ood_metric\n",
    "        print(f'OOD fold {fold_id}:', ood_metric)\n",
    "        \n",
    "means = ood_metrics.mean(axis=1)\n",
    "stds = ood_metrics.std(axis=1)\n",
    "\n",
    "for i in range(n_folds):\n",
    "    print(f'Fold {i}:\\tood = {i != in_distr_id}\\t', means[i], '±', 2 * stds[i])\n",
    "\n",
    "print()\n",
    "ood_ids = [i for i in range(n_folds) if i != in_distr_id]\n",
    "print('In distr:\\t', means[in_distr_id], '±', 2 * stds[in_distr_id])\n",
    "print('OOD:\\t\\t', ood_metrics[ood_ids].mean(), '±', 2 * ood_metrics[ood_ids].std())\n",
    "\n",
    "true_sdice = means[in_distr_id]"
   ]
  },
  {
   "cell_type": "code",
   "execution_count": 6,
   "id": "04b49211",
   "metadata": {},
   "outputs": [],
   "source": [
    "image = dataset.load_image(dataset.ids[0])"
   ]
  },
  {
   "cell_type": "code",
   "execution_count": 18,
   "id": "7050bdc3",
   "metadata": {},
   "outputs": [
    {
     "name": "stdout",
     "output_type": "stream",
     "text": [
      "axial indeces:\n"
     ]
    },
    {
     "data": {
      "image/png": "[encoded data removed]",
      "text/plain": [
       "<Figure size 576x576 with 4 Axes>"
      ]
     },
     "metadata": {
      "needs_background": "light"
     },
     "output_type": "display_data"
    }
   ],
   "source": [
    "K = 2\n",
    "ss = [100, -100]\n",
    "print('axial indeces:')\n",
    "\n",
    "img = image\n",
    "segm = np.rot90(image, k=2, axes=(-3, -1))\n",
    "# targ = target\n",
    "\n",
    "lim1 = 0\n",
    "lim2 = img.shape[0]\n",
    "lim3 = 0\n",
    "lim4 = img.shape[1]\n",
    "\n",
    "# lim1 = 50\n",
    "# lim2 = 200\n",
    "# lim3 = 50\n",
    "# lim4 = 200\n",
    "\n",
    "fig, ax = plt.subplots(nrows=2, ncols=K, figsize=(4 * K, 4 * 2))\n",
    "row = 0\n",
    "for i, s in enumerate(ss):\n",
    "    axial = img[..., s][lim1:lim2, lim3:lim4]\n",
    "    ax[row, i].imshow(axial, cmap='gray')\n",
    "    ax[row, i].axis('off')\n",
    "\n",
    "row = 1\n",
    "for i, s in enumerate(ss):\n",
    "    axial = segm[..., s][lim1:lim2, lim3:lim4]\n",
    "    ax[row, i].imshow(axial, cmap='gray')\n",
    "    ax[row, i].axis('off')\n",
    "    \n",
    "# row = 2\n",
    "# for i, s in enumerate(ss):\n",
    "#     axial = targ[..., s][lim1:lim2, lim3:lim4]\n",
    "#     ax[row, i].imshow(axial, cmap='gray')\n",
    "#     ax[row, i].axis('off')"
   ]
  },
  {
   "cell_type": "code",
   "execution_count": 19,
   "id": "cc02782d",
   "metadata": {},
   "outputs": [
    {
     "name": "stderr",
     "output_type": "stream",
     "text": [
      "100%|██████████| 329/329 [00:59<00:00,  5.55it/s]\n",
      "100%|██████████| 329/329 [02:03<00:00,  2.66it/s]\n"
     ]
    }
   ],
   "source": [
    "true_labels_abs = {}\n",
    "base_dir = os.path.join(experiment_dir, f'ensemble/seed{seed}/experiment_0/test_predictions')\n",
    "filenames = os.listdir(base_dir)\n",
    "for i in tqdm(range(len(filenames))):\n",
    "    uid = filenames[i].split('.')[0]\n",
    "    if dataset.df.fold[uid] != in_distr_id:\n",
    "        continue\n",
    "    preds = load(os.path.join(base_dir, filenames[i]))\n",
    "    uncertainty_result = np.zeros_like(preds)\n",
    "    uncertainty_result[preds > 0.5] = (1 - preds)[preds > 0.5]\n",
    "    uncertainty_result[preds <= 0.5] = preds[preds <= 0.5]\n",
    "    label = uncertainty_result.mean()\n",
    "    true_labels_abs[filenames[i].split('.')[0]] = label\n",
    "    \n",
    "true_labels_entr = {}\n",
    "base_dir = os.path.join(experiment_dir, f'ensemble/seed{seed}/experiment_0/test_predictions')\n",
    "filenames = os.listdir(base_dir)\n",
    "with warnings.catch_warnings():\n",
    "    warnings.simplefilter(\"ignore\")\n",
    "    for i in tqdm(range(len(filenames))):\n",
    "        uid = filenames[i].split('.')[0]\n",
    "        if dataset.df.fold[uid] != in_distr_id:\n",
    "            continue\n",
    "        preds = load(os.path.join(base_dir, filenames[i]))\n",
    "        uncertainty_result = - (preds * np.log2(preds + eps) + (1 - preds) * np.log2(1 - preds + eps))\n",
    "        uncertainty_result[preds == 0] = 0\n",
    "        uncertainty_result[preds == 1] = 0\n",
    "        label = uncertainty_result.mean()\n",
    "        true_labels_entr[filenames[i].split('.')[0]] = label"
   ]
  },
  {
   "cell_type": "code",
   "execution_count": 20,
   "id": "b536c350",
   "metadata": {},
   "outputs": [],
   "source": [
    "def get_score_augmentation(true_labels, augm_labels):\n",
    "    if type(augm_labels) == dict:\n",
    "        augm_labels = list(augm_labels.values())\n",
    "    scores = np.array(list(true_labels.values()) + augm_labels)\n",
    "    y_true = np.array([False] * len(true_labels) + [True] * len(augm_labels))\n",
    "    return calc_ood_scores(scores, y_true)"
   ]
  },
  {
   "cell_type": "code",
   "execution_count": 43,
   "id": "ac27a864",
   "metadata": {},
   "outputs": [],
   "source": [
    "def load_labels_and_metrics(exp_dir_list):\n",
    "    rot_labels = []\n",
    "    rot_entr_labels = []\n",
    "    rot_dices = []\n",
    "    rot_sdices = []\n",
    "\n",
    "    for rot_exp_dir in exp_dir_list:\n",
    "        cur_labels = load(os.path.join(rot_exp_dir, 'test_metrics/abs_ue_score.json'))\n",
    "        cur_entr_labels = load(os.path.join(rot_exp_dir, 'test_metrics/entropy.json'))\n",
    "        cur_dices = load(os.path.join(rot_exp_dir, 'test_metrics/dice_score.json'))\n",
    "        cur_sdices = load(os.path.join(rot_exp_dir, 'test_metrics/sdice_score.json'))\n",
    "        rot_labels += list(cur_labels.values())\n",
    "        rot_entr_labels += list(cur_entr_labels.values())\n",
    "        rot_dices += list(cur_dices.values())\n",
    "        rot_sdices += list(cur_sdices.values())\n",
    "\n",
    "    real_dice = np.mean(rot_dices)\n",
    "    real_sdice = np.mean(rot_sdices)\n",
    "    print(f'Dice:\\t{real_dice:.4f}\\tdrop:\\t{true_dice - real_dice:.4f}')\n",
    "    print(f'SDice:\\t{real_sdice:.4f}\\tdrop:\\t{true_sdice - real_sdice:.4f}')\n",
    "\n",
    "    print()\n",
    "    print('Abs uncertainty')\n",
    "    get_score_augmentation(true_labels_abs, rot_labels)\n",
    "\n",
    "    print()\n",
    "    print('Entropy')\n",
    "    get_score_augmentation(true_labels_entr, rot_entr_labels);\n",
    "    return true_labels_entr, rot_entr_labels"
   ]
  },
  {
   "cell_type": "code",
   "execution_count": 36,
   "id": "c41d0463",
   "metadata": {},
   "outputs": [
    {
     "name": "stdout",
     "output_type": "stream",
     "text": [
      "Dice:\t0.9719\tdrop:\t0.0096\n",
      "SDice:\t0.8299\tdrop:\t0.0817\n",
      "\n",
      "Abs uncertainty\n",
      "Detection accuracy: 0.8250\n",
      "AUROC: 0.8861\n",
      "TNR @ 95% TPR: 0.4833\n",
      "\n",
      "Entropy\n",
      "Detection accuracy: 0.8417\n",
      "AUROC: 0.8783\n",
      "TNR @ 95% TPR: 0.5500\n"
     ]
    }
   ],
   "source": [
    "exp_dir_list = [os.path.join(experiment_dir, f'crops_and_flips/rot{rot}/experiment_0/') for rot in [1, 3]]\n",
    "load_labels_and_metrics(exp_dir_list)"
   ]
  },
  {
   "cell_type": "code",
   "execution_count": 46,
   "id": "35946198",
   "metadata": {},
   "outputs": [
    {
     "name": "stdout",
     "output_type": "stream",
     "text": [
      "Dice:\t0.9456\tdrop:\t0.0360\n",
      "SDice:\t0.7165\tdrop:\t0.1951\n",
      "\n",
      "Abs uncertainty\n",
      "Detection accuracy: 0.9833\n",
      "AUROC: 0.9922\n",
      "TNR @ 95% TPR: 1.0000\n",
      "\n",
      "Entropy\n",
      "Detection accuracy: 0.9833\n",
      "AUROC: 0.9844\n",
      "TNR @ 95% TPR: 1.0000\n"
     ]
    }
   ],
   "source": [
    "exp_dir_list = [os.path.join(experiment_dir, f'crops_and_flips/rotate_patient{rot}/experiment_0/') \n",
    "                for rot in [2]]\n",
    "load_labels_and_metrics(exp_dir_list);"
   ]
  },
  {
   "cell_type": "code",
   "execution_count": 26,
   "id": "7a67867b",
   "metadata": {},
   "outputs": [
    {
     "name": "stdout",
     "output_type": "stream",
     "text": [
      "Dice:\t0.9703\tdrop:\t0.0112\n",
      "SDice:\t0.8135\tdrop:\t0.0981\n",
      "\n",
      "Abs uncertainty\n",
      "Detection accuracy: 0.8600\n",
      "AUROC: 0.9090\n",
      "TNR @ 95% TPR: 0.5533\n",
      "\n",
      "Entropy\n",
      "Detection accuracy: 0.8767\n",
      "AUROC: 0.9140\n",
      "TNR @ 95% TPR: 0.6333\n"
     ]
    }
   ],
   "source": [
    "exp_dir_list = [os.path.join(experiment_dir, f'crops_and_flips/rot3_ensemble/seed{seed}/experiment_0/') \n",
    "                for seed in range(n_seeds)]\n",
    "load_labels_and_metrics(exp_dir_list)"
   ]
  },
  {
   "cell_type": "code",
   "execution_count": 7,
   "id": "3aeaec09",
   "metadata": {
    "scrolled": true
   },
   "outputs": [
    {
     "name": "stdout",
     "output_type": "stream",
     "text": [
      "\n",
      "Abs uncertainty\n",
      "Detection accuracy: 0.8167\n",
      "AUROC: 0.8789\n",
      "TNR @ 95% TPR: 0.4667\n",
      "\n",
      "Entropy\n",
      "Detection accuracy: 0.8500\n",
      "AUROC: 0.8783\n",
      "TNR @ 95% TPR: 0.5333\n",
      "\n",
      "Abs uncertainty\n",
      "Detection accuracy: 0.9333\n",
      "AUROC: 0.9478\n",
      "TNR @ 95% TPR: 0.7333\n",
      "\n",
      "Entropy\n",
      "Detection accuracy: 0.9333\n",
      "AUROC: 0.9511\n",
      "TNR @ 95% TPR: 0.8000\n",
      "\n",
      "Abs uncertainty\n",
      "Detection accuracy: 0.8333\n",
      "AUROC: 0.8850\n",
      "TNR @ 95% TPR: 0.5000\n",
      "\n",
      "Entropy\n",
      "Detection accuracy: 0.8500\n",
      "AUROC: 0.8956\n",
      "TNR @ 95% TPR: 0.5667\n",
      "\n",
      "Abs uncertainty\n",
      "Detection accuracy: 0.8667\n",
      "AUROC: 0.9111\n",
      "TNR @ 95% TPR: 0.4667\n",
      "\n",
      "Entropy\n",
      "Detection accuracy: 0.8500\n",
      "AUROC: 0.9144\n",
      "TNR @ 95% TPR: 0.6333\n",
      "\n",
      "Abs uncertainty\n",
      "Detection accuracy: 0.8833\n",
      "AUROC: 0.9222\n",
      "TNR @ 95% TPR: 0.6000\n",
      "\n",
      "Entropy\n",
      "Detection accuracy: 0.9000\n",
      "AUROC: 0.9306\n",
      "TNR @ 95% TPR: 0.6333\n",
      "\n",
      "Dice:\t0.9703 ± 0.0032\tdrop:\t0.0112\n",
      "SDice:\t0.8135 ± 0.0329\tdrop:\t0.0981\n",
      "\n",
      "Abs uncertainty\n",
      "Detection accuracy:\t0.8667 ± 0.0800\n",
      "AUROC:\t0.9090 ± 0.0493\n",
      "TNR @ 95% TPR:\t0.5533 ± 0.2007\n",
      "\n",
      "Entropy\n",
      "Detection accuracy:\t0.8767 ± 0.0673\n",
      "AUROC:\t0.9140 ± 0.0501\n",
      "TNR @ 95% TPR:\t0.6333 ± 0.1801\n"
     ]
    }
   ],
   "source": [
    "det_accs = []\n",
    "roc_aucs = []\n",
    "tprs = []\n",
    "det_accs_ent = []\n",
    "roc_aucs_ent = []\n",
    "tprs_ent = []\n",
    "rot_dices = []\n",
    "rot_sdices = []\n",
    "\n",
    "for seed in range(n_seeds):\n",
    "    rot_exp_dir = os.path.join(experiment_dir, f'crops_and_flips/rot3_ensemble/seed{seed}/experiment_0/')\n",
    "\n",
    "    cur_labels = load(os.path.join(rot_exp_dir, 'test_metrics/abs_ue_score.json'))\n",
    "    cur_entr_labels = load(os.path.join(rot_exp_dir, 'test_metrics/entropy.json'))\n",
    "    cur_dices = load(os.path.join(rot_exp_dir, 'test_metrics/dice_score.json'))\n",
    "    cur_sdices = load(os.path.join(rot_exp_dir, 'test_metrics/sdice_score.json'))\n",
    "    rot_labels = list(cur_labels.values())\n",
    "    rot_entr_labels = list(cur_entr_labels.values())\n",
    "    rot_dices.append(np.mean(list(cur_dices.values())))\n",
    "    rot_sdices.append(np.mean(list(cur_sdices.values())))\n",
    "    \n",
    "    print()\n",
    "    print('Abs uncertainty')\n",
    "    det_acc, roc_auc, tpr = get_score_augmentation(true_labels_abs, rot_labels)\n",
    "    det_accs.append(det_acc)\n",
    "    roc_aucs.append(roc_auc)\n",
    "    tprs.append(tpr)\n",
    "\n",
    "    print()\n",
    "    print('Entropy')\n",
    "    det_acc_ent, roc_auc_ent, tpr_ent = get_score_augmentation(true_labels_entr, rot_entr_labels)\n",
    "    det_accs_ent.append(det_acc_ent)\n",
    "    roc_aucs_ent.append(roc_auc_ent)\n",
    "    tprs_ent.append(tpr_ent)\n",
    "    \n",
    "real_dice = np.mean(rot_dices)\n",
    "real_sdice = np.mean(rot_sdices)\n",
    "print()\n",
    "print(f'Dice:\\t{real_dice:.4f} ± {1.96 * np.std(rot_dices):.4f}\\tdrop:\\t{true_dice - real_dice:.4f}')\n",
    "print(f'SDice:\\t{real_sdice:.4f} ± {1.96 * np.std(rot_sdices):.4f}\\tdrop:\\t{true_sdice - real_sdice:.4f}')\n",
    "\n",
    "print()\n",
    "print('Abs uncertainty')\n",
    "print(f'Detection accuracy:\\t{np.mean(det_accs):.4f} ± {1.96 * np.std(det_accs):.4f}')\n",
    "print(f'AUROC:\\t{np.mean(roc_aucs):.4f} ± {1.96 * np.std(roc_aucs):.4f}')\n",
    "print(f'TNR @ 95% TPR:\\t{np.mean(tprs):.4f} ± {1.96 * np.std(tprs):.4f}')\n",
    "\n",
    "print()\n",
    "print('Entropy')\n",
    "print(f'Detection accuracy:\\t{np.mean(det_accs_ent):.4f} ± {1.96 * np.std(det_accs_ent):.4f}')\n",
    "print(f'AUROC:\\t{np.mean(roc_aucs_ent):.4f} ± {1.96 * np.std(roc_aucs_ent):.4f}')\n",
    "print(f'TNR @ 95% TPR:\\t{np.mean(tprs_ent):.4f} ± {1.96 * np.std(tprs_ent):.4f}')"
   ]
  },
  {
   "cell_type": "code",
   "execution_count": 30,
   "id": "65fe9ee3",
   "metadata": {},
   "outputs": [
    {
     "name": "stdout",
     "output_type": "stream",
     "text": [
      "Dice:\t0.9792\tdrop:\t0.0023\n",
      "SDice:\t0.8872\tdrop:\t0.0244\n",
      "\n",
      "Abs uncertainty\n",
      "Detection accuracy: 0.6417\n",
      "AUROC: 0.6575\n",
      "TNR @ 95% TPR: 0.1333\n",
      "\n",
      "Entropy\n",
      "Detection accuracy: 0.6500\n",
      "AUROC: 0.6550\n",
      "TNR @ 95% TPR: 0.1667\n"
     ]
    }
   ],
   "source": [
    "exp_dir_list = [os.path.join(experiment_dir, f'crops_and_flips/flip{flip}/experiment_0/') for flip in [0, 1]]\n",
    "load_labels_and_metrics(exp_dir_list)"
   ]
  },
  {
   "cell_type": "code",
   "execution_count": 31,
   "id": "4684ae71",
   "metadata": {},
   "outputs": [
    {
     "name": "stdout",
     "output_type": "stream",
     "text": [
      "Dice:\t0.8705\tdrop:\t0.1110\n",
      "SDice:\tnan\tdrop:\tnan\n",
      "\n",
      "Abs uncertainty\n",
      "Detection accuracy: 0.8800\n",
      "AUROC: 0.8863\n",
      "TNR @ 95% TPR: 0.7933\n",
      "\n",
      "Entropy\n",
      "Detection accuracy: 0.8867\n",
      "AUROC: 0.8872\n",
      "TNR @ 95% TPR: 0.8067\n"
     ]
    }
   ],
   "source": [
    "exp_dir_list = [os.path.join(experiment_dir, f'crops_and_flips/crop_5/experiment_0/')]\n",
    "load_labels_and_metrics(exp_dir_list)"
   ]
  },
  {
   "cell_type": "code",
   "execution_count": 43,
   "id": "9be403aa",
   "metadata": {},
   "outputs": [
    {
     "name": "stdout",
     "output_type": "stream",
     "text": [
      "Dice:\t0.8705\tdrop:\t0.1110\n",
      "SDice:\t0.7414\tdrop:\t0.1702\n",
      "\n",
      "Abs uncertainty\n",
      "Detection accuracy: 0.8800\n",
      "AUROC: 0.8863\n",
      "TNR @ 95% TPR: 0.8167\n",
      "\n",
      "Entropy\n",
      "Detection accuracy: 0.8867\n",
      "AUROC: 0.8872\n",
      "TNR @ 95% TPR: 0.8278\n"
     ]
    }
   ],
   "source": [
    "rot_labels = []\n",
    "rot_entr_labels = []\n",
    "rot_dices = []\n",
    "rot_sdices = []\n",
    "\n",
    "for rot in [1]:\n",
    "    rot_exp_dir = rot_exp_dir = os.path.join(experiment_dir, f'crops_and_flips/crop_5/experiment_0/')\n",
    "\n",
    "    cur_labels = load(os.path.join(rot_exp_dir, 'test_metrics/abs_ue_score.json'))\n",
    "    cur_entr_labels = load(os.path.join(rot_exp_dir, 'test_metrics/entropy.json'))\n",
    "    cur_dices = load(os.path.join(rot_exp_dir, 'test_metrics/dice_score.json'))\n",
    "    cur_sdices = load(os.path.join(rot_exp_dir, 'test_metrics/sdice_score.json'))\n",
    "    rot_labels += list(cur_labels.values())\n",
    "    rot_entr_labels += list(cur_entr_labels.values())\n",
    "    rot_dices += list(cur_dices.values())\n",
    "    rot_sdices += list(cur_sdices.values())\n",
    "    \n",
    "real_dice = np.mean(rot_dices)\n",
    "real_sdice = np.mean(rot_sdices, where=~np.isnan(rot_sdices))\n",
    "print(f'Dice:\\t{real_dice:.4f}\\tdrop:\\t{true_dice - real_dice:.4f}')\n",
    "print(f'SDice:\\t{real_sdice:.4f}\\tdrop:\\t{true_sdice - real_sdice:.4f}')\n",
    "\n",
    "print()\n",
    "print('Abs uncertainty')\n",
    "get_score_augmentation(true_labels_abs, rot_labels)\n",
    "\n",
    "print()\n",
    "print('Entropy')\n",
    "get_score_augmentation(true_labels_entr, rot_entr_labels)"
   ]
  },
  {
   "cell_type": "code",
   "execution_count": 11,
   "id": "2eccb5a0",
   "metadata": {},
   "outputs": [],
   "source": [
    "cur_centers = load(os.path.join(rot_exp_dir, 'test_metrics/centers.json'))\n",
    "cur_shapes = load(os.path.join(rot_exp_dir, 'test_metrics/crop_shapes.json'))"
   ]
  },
  {
   "cell_type": "code",
   "execution_count": 14,
   "id": "58b809ac",
   "metadata": {},
   "outputs": [
    {
     "data": {
      "text/plain": [
       "<matplotlib.collections.PathCollection at 0x7f2154a45340>"
      ]
     },
     "execution_count": 14,
     "metadata": {},
     "output_type": "execute_result"
    },
    {
     "data": {
      "image/png": "[encoded data removed]",
      "text/plain": [
       "<Figure size 432x288 with 1 Axes>"
      ]
     },
     "metadata": {
      "needs_background": "light"
     },
     "output_type": "display_data"
    }
   ],
   "source": [
    "plt.scatter(np.array([val[0] for val in cur_shapes.values()])[~np.isnan(rot_sdices)], \n",
    "            np.array(rot_sdices)[~np.isnan(rot_sdices)])"
   ]
  },
  {
   "cell_type": "markdown",
   "id": "0bd0fd5b",
   "metadata": {},
   "source": [
    "## Ensemble"
   ]
  },
  {
   "cell_type": "markdown",
   "id": "22eb169a",
   "metadata": {},
   "source": [
    "Entropy\n",
    "\n",
    "Detection accuracy:\t0.8767 ± 0.0673\n",
    "\n",
    "AUROC:\t0.9140 ± 0.0501\n",
    "\n",
    "TNR @ 95% TPR:\t0.7833 ± 0.0901"
   ]
  },
  {
   "cell_type": "code",
   "execution_count": 47,
   "id": "82323927",
   "metadata": {},
   "outputs": [
    {
     "name": "stderr",
     "output_type": "stream",
     "text": [
      "100%|██████████| 329/329 [25:00<00:00,  4.56s/it]\n"
     ]
    }
   ],
   "source": [
    "top_elements = 1000000\n",
    "\n",
    "labels_std = {}\n",
    "labels_var = {}\n",
    "labels_top_std = {}\n",
    "labels_iou = {}\n",
    "labels_volume = {}\n",
    "dices = {}\n",
    "sdices = {}\n",
    "\n",
    "base_dir = os.path.join(experiment_dir, f'ensemble/seed0/experiment_0/test_predictions')\n",
    "filenames = os.listdir(base_dir)\n",
    "uids = [fname.split('.')[0] for fname in filenames]\n",
    "\n",
    "for uid in tqdm(uids):\n",
    "    if dataset.df.fold[uid] != in_distr_id:\n",
    "        continue\n",
    "    \n",
    "    ensemble_preds = []\n",
    "    ensemble_preds_top = []\n",
    "    for seed in range(n_seeds):\n",
    "        base_dir = os.path.join(experiment_dir, f'ensemble/seed{seed}/experiment_0/test_predictions')\n",
    "        preds = load(os.path.join(base_dir, uid + '.npy.gz'))\n",
    "        ensemble_preds.append(preds)\n",
    "        sorted_preds = np.sort(preds)\n",
    "        ensemble_preds_top.append(sorted_preds.flatten()[-top_elements:])\n",
    "    \n",
    "    ensemble_preds = np.array(ensemble_preds)\n",
    "    mean_preds = ensemble_preds.mean(axis=0)\n",
    "    std_preds = ensemble_preds.std(axis=0)\n",
    "    true_mask = dataset.load_segm(uid)\n",
    "    dices[uid] = dice_score(mean_preds > bin_threshold, true_mask > bin_threshold)\n",
    "    sdices[uid] = sdice_metric(mean_preds > bin_threshold, true_mask > bin_threshold, uid)\n",
    "    labels_std[uid] = std_preds.mean()\n",
    "    labels_var[uid] = np.square(std_preds).mean()\n",
    "    \n",
    "    mean_preds = ensemble_preds.mean(axis=0)\n",
    "    ious = []\n",
    "    for i in range(n_seeds):\n",
    "        ious.append(1 - iou(mean_preds > bin_threshold, ensemble_preds[i] > bin_threshold))\n",
    "    labels_iou[uid] = np.mean(ious)\n",
    "    \n",
    "    volumes = np.array([(pred > bin_threshold).sum() for pred in ensemble_preds])\n",
    "    mean_volume = volumes.mean()\n",
    "    std_volume = volumes.std()\n",
    "    labels_volume[uid] = std_volume / mean_volume\n",
    "    \n",
    "    ensemble_preds_top = np.array(ensemble_preds_top)\n",
    "    std_preds_top = ensemble_preds_top.std(axis=0)\n",
    "    labels_top_std[uid] = std_preds_top.mean()\n",
    "        \n",
    "true_labels_ensemble_std = labels_std\n",
    "true_labels_ensemble_var = labels_var\n",
    "true_labels_ensemble_top_std = labels_top_std\n",
    "true_labels_ensemble_iou = labels_iou\n",
    "true_labels_ensemble_volume = labels_volume\n",
    "\n",
    "true_dice_ensemble = np.mean(list(dices.values()))\n",
    "true_sdice_ensemble = np.mean(list(sdices.values()))"
   ]
  },
  {
   "cell_type": "code",
   "execution_count": 38,
   "id": "dbd2688a",
   "metadata": {},
   "outputs": [],
   "source": [
    "k = 3\n",
    "\n",
    "labels_std = {}\n",
    "labels_var = {}\n",
    "labels_top_std = {}\n",
    "labels_iou = {}\n",
    "labels_volume = {}\n",
    "dices = {}\n",
    "sdices = {}\n",
    "\n",
    "base_dir = os.path.join(experiment_dir, f'crops_and_flips/rot3_ensemble/seed0/experiment_0/test_predictions')\n",
    "filenames = os.listdir(base_dir)\n",
    "uids = [fname.split('.')[0] for fname in filenames]\n",
    "\n",
    "for uid in tqdm(uids):\n",
    "    \n",
    "    ensemble_preds = []\n",
    "    ensemble_preds_top = []\n",
    "    for seed in range(n_seeds):\n",
    "        base_dir = os.path.join(experiment_dir, \n",
    "                                f'crops_and_flips/rot3_ensemble/seed{seed}/experiment_0/test_predictions')\n",
    "        preds = load(os.path.join(base_dir, uid + '.npy'))\n",
    "        ensemble_preds.append(preds)\n",
    "        sorted_preds = np.sort(preds)\n",
    "        ensemble_preds_top.append(sorted_preds.flatten()[-top_elements:])\n",
    "    \n",
    "    ensemble_preds = np.array(ensemble_preds)\n",
    "    mean_preds = ensemble_preds.mean(axis=0)\n",
    "    std_preds = ensemble_preds.std(axis=0)\n",
    "    true_mask = rotate90(dataset.load_image(uid), k=k)\n",
    "    dices[uid] = dice_score(mean_preds > bin_threshold, true_mask > bin_threshold)\n",
    "    sdices[uid] = sdice_metric(mean_preds > bin_threshold, true_mask > bin_threshold, uid)\n",
    "    labels_std[uid] = std_preds.mean()\n",
    "    labels_var[uid] = np.square(std_preds).mean()\n",
    "    \n",
    "    mean_preds = ensemble_preds.mean(axis=0)\n",
    "    ious = []\n",
    "    for i in range(n_seeds):\n",
    "        ious.append(1 - iou(mean_preds > bin_threshold, ensemble_preds[i] > bin_threshold))\n",
    "    labels_iou[uid] = np.mean(ious)\n",
    "    \n",
    "    volumes = np.array([(pred > bin_threshold).sum() for pred in ensemble_preds])\n",
    "    mean_volume = volumes.mean()\n",
    "    std_volume = volumes.std()\n",
    "    labels_volume[uid] = std_volume / mean_volume\n",
    "    \n",
    "    ensemble_preds_top = np.array(ensemble_preds_top)\n",
    "    std_preds_top = ensemble_preds_top.std(axis=0)\n",
    "    labels_top_std[uid] = std_preds_top.mean()\n",
    "        \n",
    "cur_labels_ensemble_std = labels_std\n",
    "cur_labels_ensemble_var = labels_var\n",
    "cur_labels_ensemble_top_std = labels_top_std\n",
    "cur_labels_ensemble_iou = labels_iou\n",
    "cur_labels_ensemble_volume = labels_volume\n",
    "\n",
    "cur_dice_ensemble = np.mean(list(dices.values()))\n",
    "cur_sdice_ensemble = np.mean(list(sdices.values()))"
   ]
  },
  {
   "cell_type": "code",
   "execution_count": 60,
   "id": "298563ed",
   "metadata": {
    "scrolled": true
   },
   "outputs": [
    {
     "name": "stdout",
     "output_type": "stream",
     "text": [
      "Dice:\t0.6203\tdrop:\t0.3613\n",
      "SDice:\t0.1044\tdrop:\t0.8077\n",
      "\n",
      "Mean std\n",
      "Detection accuracy: 0.9000\n",
      "AUROC: 0.9344\n",
      "TNR @ 95% TPR: 0.8000\n",
      "\n",
      "Mean var\n",
      "Detection accuracy: 0.9167\n",
      "AUROC: 0.9506\n",
      "TNR @ 95% TPR: 0.8500\n",
      "\n",
      "Mean top std\n",
      "Detection accuracy: 0.7833\n",
      "AUROC: 0.8000\n",
      "TNR @ 95% TPR: 0.5833\n",
      "\n",
      "Mean iou\n",
      "Detection accuracy: 0.9500\n",
      "AUROC: 0.9589\n",
      "TNR @ 95% TPR: 0.9333\n",
      "\n",
      "Mean volume\n",
      "Detection accuracy: 0.8667\n",
      "AUROC: 0.8911\n",
      "TNR @ 95% TPR: 0.8333\n"
     ]
    }
   ],
   "source": [
    "print(f'Dice:\\t{cur_dice_ensemble:.4f}\\tdrop:\\t{true_dice_ensemble - cur_dice_ensemble:.4f}')\n",
    "print(f'SDice:\\t{cur_sdice_ensemble:.4f}\\tdrop:\\t{true_sdice_ensemble - cur_sdice_ensemble:.4f}')\n",
    "\n",
    "print()\n",
    "print('Mean std')\n",
    "get_score_augmentation(true_labels_ensemble_std, cur_labels_ensemble_std)\n",
    "\n",
    "print()\n",
    "print('Mean var')\n",
    "get_score_augmentation(true_labels_ensemble_var, cur_labels_ensemble_var)\n",
    "\n",
    "print()\n",
    "print('Mean top std')\n",
    "get_score_augmentation(true_labels_ensemble_top_std, cur_labels_ensemble_top_std)\n",
    "\n",
    "print()\n",
    "print('Mean iou')\n",
    "get_score_augmentation(true_labels_ensemble_iou, cur_labels_ensemble_iou)\n",
    "\n",
    "print()\n",
    "print('Mean volume')\n",
    "get_score_augmentation(true_labels_ensemble_volume, cur_labels_ensemble_volume)"
   ]
  },
  {
   "cell_type": "markdown",
   "id": "c3f3acf2",
   "metadata": {},
   "source": [
    "### Stack predictions (mean uncertainty)"
   ]
  },
  {
   "cell_type": "code",
   "execution_count": 9,
   "id": "673e07c2",
   "metadata": {},
   "outputs": [
    {
     "name": "stderr",
     "output_type": "stream",
     "text": [
      "100%|██████████| 329/329 [02:58<00:00,  1.85it/s]\n",
      "100%|██████████| 329/329 [03:11<00:00,  1.71it/s]\n",
      "100%|██████████| 329/329 [02:57<00:00,  1.86it/s]\n",
      "100%|██████████| 329/329 [02:58<00:00,  1.85it/s]\n",
      "100%|██████████| 329/329 [02:57<00:00,  1.85it/s]\n"
     ]
    }
   ],
   "source": [
    "true_labels_abs_ens = []\n",
    "true_labels_entr_ens = []\n",
    "\n",
    "for seed in range(n_seeds):\n",
    "    true_labels_abs = {}\n",
    "    true_labels_entr = {}\n",
    "    base_dir = os.path.join(experiment_dir, f'ensemble/seed{seed}/experiment_0/test_predictions')\n",
    "    filenames = os.listdir(base_dir)\n",
    "    for i in tqdm(range(len(filenames))):\n",
    "        uid = filenames[i].split('.')[0]\n",
    "        if dataset.df.fold[uid] != in_distr_id:\n",
    "            continue\n",
    "        preds = load(os.path.join(base_dir, filenames[i]))\n",
    "        uncertainty_result = np.zeros_like(preds)\n",
    "        uncertainty_result[preds > 0.5] = (1 - preds)[preds > 0.5]\n",
    "        uncertainty_result[preds <= 0.5] = preds[preds <= 0.5]\n",
    "        label = uncertainty_result.mean()\n",
    "        true_labels_abs[filenames[i].split('.')[0]] = label\n",
    "\n",
    "        with warnings.catch_warnings():\n",
    "            warnings.simplefilter(\"ignore\")\n",
    "            uncertainty_result = -(preds * np.log2(preds + eps) + (1 - preds) * np.log2(1 - preds + eps))\n",
    "            uncertainty_result[preds == 0] = 0\n",
    "            uncertainty_result[preds == 1] = 0\n",
    "            label = uncertainty_result.mean()\n",
    "            true_labels_entr[filenames[i].split('.')[0]] = label\n",
    "            \n",
    "    true_labels_abs_ens.append(true_labels_abs)\n",
    "    true_labels_entr_ens.append(true_labels_entr)"
   ]
  },
  {
   "cell_type": "code",
   "execution_count": 10,
   "id": "9d42ca6a",
   "metadata": {},
   "outputs": [],
   "source": [
    "true_labels_abs_ens_new = np.zeros((len(true_labels_abs_ens[0])))\n",
    "for ind, label in enumerate(true_labels_abs_ens[0].keys()):\n",
    "    for i in range(len(true_labels_abs_ens)):\n",
    "        true_labels_abs_ens_new[ind] += true_labels_abs_ens[i][label]       \n",
    "true_labels_abs_ens_new /= len(true_labels_abs_ens)\n",
    "\n",
    "true_labels_entr_ens_new = np.zeros((len(true_labels_entr_ens[0])))\n",
    "for ind, label in enumerate(true_labels_entr_ens[0].keys()):\n",
    "    for i in range(len(true_labels_entr_ens)):\n",
    "        true_labels_entr_ens_new[ind] += true_labels_entr_ens[i][label]             \n",
    "true_labels_entr_ens_new /= len(true_labels_entr_ens)"
   ]
  },
  {
   "cell_type": "code",
   "execution_count": 11,
   "id": "654fd347",
   "metadata": {},
   "outputs": [],
   "source": [
    "true_labels_abs_ens_new = {i: true_labels_abs_ens_new[i] for i in range(len(true_labels_abs_ens_new))}\n",
    "true_labels_entr_ens_new = {i: true_labels_entr_ens_new[i] for i in range(len(true_labels_entr_ens_new))}"
   ]
  },
  {
   "cell_type": "code",
   "execution_count": 12,
   "id": "09531011",
   "metadata": {},
   "outputs": [
    {
     "name": "stdout",
     "output_type": "stream",
     "text": [
      "\n",
      "Abs uncertainty\n",
      "Detection accuracy: 0.8167\n",
      "AUROC: 0.8756\n",
      "TNR @ 95% TPR: 0.4333\n",
      "\n",
      "Entropy\n",
      "Detection accuracy: 0.8000\n",
      "AUROC: 0.8544\n",
      "TNR @ 95% TPR: 0.4333\n"
     ]
    }
   ],
   "source": [
    "rot_labels = []\n",
    "rot_entr_labels = []\n",
    "\n",
    "for seed in range(n_seeds):\n",
    "    rot_exp_dir = os.path.join(experiment_dir, f'crops_and_flips/rot3_ensemble/seed{seed}/experiment_0/')\n",
    "\n",
    "    cur_labels = load(os.path.join(rot_exp_dir, 'test_metrics/abs_ue_score.json'))\n",
    "    cur_entr_labels = load(os.path.join(rot_exp_dir, 'test_metrics/entropy.json'))\n",
    "    rot_labels.append(np.array(list(cur_labels.values())))\n",
    "    rot_entr_labels.append(np.array(list(cur_entr_labels.values())))\n",
    "    \n",
    "rot_labels = list(np.array(rot_labels).mean(axis=0))\n",
    "rot_entr_labels = list(np.array(rot_entr_labels).mean(axis=0))\n",
    "    \n",
    "print()\n",
    "print('Abs uncertainty')\n",
    "det_acc, roc_auc, tpr = get_score_augmentation(true_labels_abs_ens_new, rot_labels)\n",
    "\n",
    "print()\n",
    "print('Entropy')\n",
    "det_acc_ent, roc_auc_ent, tpr_ent = get_score_augmentation(true_labels_entr_ens_new, rot_entr_labels)"
   ]
  },
  {
   "cell_type": "code",
   "execution_count": 56,
   "id": "ea5cf157",
   "metadata": {},
   "outputs": [
    {
     "data": {
      "text/plain": [
       "0.005070266723632812"
      ]
     },
     "execution_count": 56,
     "metadata": {},
     "output_type": "execute_result"
    }
   ],
   "source": [
    "np.percentile(true_labels_abs_ens_new, 95)"
   ]
  },
  {
   "cell_type": "code",
   "execution_count": 68,
   "id": "9009c7aa",
   "metadata": {},
   "outputs": [
    {
     "data": {
      "text/plain": [
       "array([False, False, False, False, False, False, False, False, False,\n",
       "       False, False, False, False,  True, False, False, False, False,\n",
       "       False, False, False, False, False, False,  True, False, False,\n",
       "       False, False, False])"
      ]
     },
     "execution_count": 68,
     "metadata": {},
     "output_type": "execute_result"
    }
   ],
   "source": [
    "(np.array(true_labels_abs_ens_new) > 0.005070266723632812)"
   ]
  },
  {
   "cell_type": "code",
   "execution_count": 69,
   "id": "61cefa95",
   "metadata": {},
   "outputs": [
    {
     "data": {
      "text/plain": [
       "array([False, False,  True,  True, False, False, False,  True, False,\n",
       "        True, False, False, False,  True, False, False,  True, False,\n",
       "       False,  True,  True, False,  True,  True, False, False, False,\n",
       "        True,  True,  True])"
      ]
     },
     "execution_count": 69,
     "metadata": {},
     "output_type": "execute_result"
    }
   ],
   "source": [
    "(np.array(rot_labels) > 0.005070266723632812)"
   ]
  },
  {
   "cell_type": "code",
   "execution_count": 70,
   "id": "0d7a3564",
   "metadata": {},
   "outputs": [
    {
     "data": {
      "text/plain": [
       "0.43333333333333335"
      ]
     },
     "execution_count": 70,
     "metadata": {},
     "output_type": "execute_result"
    }
   ],
   "source": [
    "(np.array(rot_labels) > 0.005070266723632812).sum() / len(rot_labels)"
   ]
  },
  {
   "cell_type": "markdown",
   "id": "7706e9b5",
   "metadata": {},
   "source": [
    "## MC dropout"
   ]
  },
  {
   "cell_type": "code",
   "execution_count": 32,
   "id": "06161843",
   "metadata": {},
   "outputs": [
    {
     "name": "stdout",
     "output_type": "stream",
     "text": [
      "Mean var - all voxels\n",
      "\n"
     ]
    }
   ],
   "source": [
    "# p = 0.3\n",
    "\n",
    "labels = {}\n",
    "cur_labels = []\n",
    "\n",
    "labels = load(os.path.join(experiment_dir, 'mc_dropout/03/mc_drop_50/experiment_0/test_metrics/get_all_labels_std.json'))\n",
    "\n",
    "is_ood_true = np.array([dataset.df.fold[uid] != in_distr_id for uid in labels.keys()])\n",
    "print('Mean var - all voxels')\n",
    "#calc_ood_scores(np.array(list(labels.values())), is_ood_true)\n",
    "print()"
   ]
  },
  {
   "cell_type": "code",
   "execution_count": 34,
   "id": "79f12c95",
   "metadata": {},
   "outputs": [
    {
     "name": "stdout",
     "output_type": "stream",
     "text": [
      "Mean var - all voxels\n",
      "\n"
     ]
    }
   ],
   "source": [
    "# p = 0.3\n",
    "\n",
    "labels = {}\n",
    "cur_labels = []\n",
    "\n",
    "labels = load(os.path.join(experiment_dir, 'mc_dropout/01/mc_drop_50/experiment_0/test_metrics/get_all_labels_std.json'))\n",
    "\n",
    "is_ood_true = np.array([dataset.df.fold[uid] != in_distr_id for uid in labels.keys()])\n",
    "print('Mean var - all voxels')\n",
    "#calc_ood_scores(np.array(list(labels.values())), is_ood_true)\n",
    "print()"
   ]
  },
  {
   "cell_type": "code",
   "execution_count": 35,
   "id": "7df1ab01",
   "metadata": {},
   "outputs": [],
   "source": [
    "labels_flip = load(os.path.join(experiment_dir, 'crops_and_flips/mc_dropout/01/rot3_50/experiment_0/test_metrics/get_all_labels_std.json'))\n",
    "\n",
    "# is_ood_true = np.array([dataset.df.fold[uid] != in_distr_id for uid in labels.keys()])\n",
    "# print('Mean var - all voxels')\n",
    "# calc_ood_scores(np.array(list(labels.values())), is_ood_true)\n",
    "# print()"
   ]
  },
  {
   "cell_type": "code",
   "execution_count": 36,
   "id": "25d271dc",
   "metadata": {},
   "outputs": [],
   "source": [
    "def get_scores(labels_true, labels_augm):\n",
    "    augm_labels = [labels_augm[uid] for uid in labels_augm.keys()]\n",
    "    true_labels = [labels_true[uid] for uid in labels_augm.keys()]\n",
    "    scores = np.array(list(true_labels) + augm_labels)\n",
    "    y_true = np.array([False] * len(true_labels) + [True] * len(augm_labels))\n",
    "    calc_ood_scores(scores, y_true);\n",
    "    indices = np.argsort(scores)\n",
    "    return indices, y_true"
   ]
  },
  {
   "cell_type": "code",
   "execution_count": null,
   "id": "8f42f0dc",
   "metadata": {},
   "outputs": [],
   "source": []
  },
  {
   "cell_type": "code",
   "execution_count": null,
   "id": "f53268b2",
   "metadata": {},
   "outputs": [],
   "source": [
    "Entropy\n",
    "Detection accuracy:\t0.8767 ± 0.0673\n",
    "AUROC:\t0.9140 ± 0.0501\n",
    "TNR @ 95% TPR:\t0.7833 ± 0.0901"
   ]
  },
  {
   "cell_type": "code",
   "execution_count": null,
   "id": "c2db75d3",
   "metadata": {},
   "outputs": [],
   "source": [
    "indices, y_true = get_scores(labels, labels_flip) # 10 samples var 01"
   ]
  },
  {
   "cell_type": "code",
   "execution_count": 13,
   "id": "8c220610",
   "metadata": {},
   "outputs": [
    {
     "name": "stdout",
     "output_type": "stream",
     "text": [
      "Detection accuracy:\t0.7500\n",
      "AUROC:\t\t\t0.8361\n",
      "TNR @ 95% TPR:\t\t0.7167\n"
     ]
    }
   ],
   "source": [
    "indices, y_true = get_scores(labels, labels_flip) # 10 samples std 01"
   ]
  },
  {
   "cell_type": "code",
   "execution_count": 37,
   "id": "d6b5e459",
   "metadata": {},
   "outputs": [
    {
     "name": "stdout",
     "output_type": "stream",
     "text": [
      "Detection accuracy: 0.7666666666666666\n",
      "AUROC: 0.8400000000000001\n",
      "TNR @ 95% TPR: 0.7166666666666667\n"
     ]
    }
   ],
   "source": [
    "indices, y_true = get_scores(labels, labels_flip) # 50 samples std 01"
   ]
  },
  {
   "cell_type": "code",
   "execution_count": 8,
   "id": "b37ce71a",
   "metadata": {},
   "outputs": [
    {
     "name": "stdout",
     "output_type": "stream",
     "text": [
      "Detection accuracy:\t0.7167\n",
      "AUROC:\t\t\t0.7394\n",
      "TNR @ 95% TPR:\t\t0.6333\n"
     ]
    }
   ],
   "source": [
    "indices, y_true = get_scores(labels, labels_flip) # 10 samples var 03"
   ]
  },
  {
   "cell_type": "code",
   "execution_count": 70,
   "id": "2c34408a",
   "metadata": {},
   "outputs": [
    {
     "name": "stdout",
     "output_type": "stream",
     "text": [
      "Detection accuracy:\t0.7167\n",
      "AUROC:\t\t\t0.7772\n",
      "TNR @ 95% TPR:\t\t0.6167\n"
     ]
    }
   ],
   "source": [
    "indices, y_true = get_scores(labels, labels_flip) # 10 samples std 03"
   ]
  },
  {
   "cell_type": "code",
   "execution_count": null,
   "id": "3a57e3ed",
   "metadata": {},
   "outputs": [],
   "source": [
    "indices, y_true = get_scores(labels, labels_flip) # 10 samples var 05"
   ]
  },
  {
   "cell_type": "code",
   "execution_count": 16,
   "id": "b887a205",
   "metadata": {},
   "outputs": [
    {
     "name": "stdout",
     "output_type": "stream",
     "text": [
      "Detection accuracy:\t0.7333\n",
      "AUROC:\t\t\t0.7639\n",
      "TNR @ 95% TPR:\t\t0.6000\n"
     ]
    }
   ],
   "source": [
    "indices, y_true = get_scores(labels, labels_flip) # 10 samples std 05"
   ]
  },
  {
   "cell_type": "code",
   "execution_count": 19,
   "id": "daa29670",
   "metadata": {},
   "outputs": [
    {
     "name": "stdout",
     "output_type": "stream",
     "text": [
      "Detection accuracy:\t0.7000\n",
      "AUROC:\t\t\t0.7372\n",
      "TNR @ 95% TPR:\t\t0.6333\n"
     ]
    }
   ],
   "source": [
    "indices, y_true = get_scores(labels, labels_flip) # 50 samples var 03"
   ]
  },
  {
   "cell_type": "code",
   "execution_count": 22,
   "id": "33f4fc97",
   "metadata": {},
   "outputs": [
    {
     "name": "stdout",
     "output_type": "stream",
     "text": [
      "Detection accuracy:\t0.7333\n",
      "AUROC:\t\t\t0.7850\n",
      "TNR @ 95% TPR:\t\t0.6500\n"
     ]
    }
   ],
   "source": [
    "indices, y_true = get_scores(labels, labels_flip) # 50 samples std 03"
   ]
  },
  {
   "cell_type": "code",
   "execution_count": 61,
   "id": "39a1036b",
   "metadata": {},
   "outputs": [
    {
     "data": {
      "text/plain": [
       "array([False, False, False, False, False, False, False,  True, False,\n",
       "       False, False,  True,  True, False, False, False, False, False,\n",
       "        True, False, False, False, False, False,  True,  True, False,\n",
       "       False,  True, False,  True,  True, False,  True,  True,  True,\n",
       "       False,  True, False, False, False,  True,  True,  True, False,\n",
       "        True,  True,  True,  True,  True,  True,  True,  True,  True,\n",
       "        True,  True,  True,  True, False,  True])"
      ]
     },
     "execution_count": 61,
     "metadata": {},
     "output_type": "execute_result"
    }
   ],
   "source": [
    "y_true[indices]"
   ]
  },
  {
   "cell_type": "code",
   "execution_count": null,
   "id": "dbbc0ca9",
   "metadata": {},
   "outputs": [],
   "source": []
  },
  {
   "cell_type": "markdown",
   "id": "2daf2394",
   "metadata": {},
   "source": [
    "## Lits on lungs"
   ]
  },
  {
   "cell_type": "code",
   "execution_count": 8,
   "id": "196ea5f2",
   "metadata": {},
   "outputs": [],
   "source": [
    "experiment_dir = '/mount/sdc/experiments/ood_playground/lungs/'"
   ]
  },
  {
   "cell_type": "code",
   "execution_count": 6,
   "id": "f57a5b6d",
   "metadata": {},
   "outputs": [
    {
     "name": "stdout",
     "output_type": "stream",
     "text": [
      "Dice:\t0.0000\n",
      "SDice:\t0.0000\n"
     ]
    }
   ],
   "source": [
    "rot_labels = []\n",
    "rot_entr_labels = []\n",
    "rot_dices = []\n",
    "rot_sdices = []\n",
    "\n",
    "for rot in [3]:\n",
    "    rot_exp_dir = os.path.join(experiment_dir, f'lits/experiment_0/')\n",
    "\n",
    "    cur_labels = load(os.path.join(rot_exp_dir, 'test_metrics/abs_ue_score.json'))\n",
    "    cur_entr_labels = load(os.path.join(rot_exp_dir, 'test_metrics/entropy.json'))\n",
    "    cur_dices = load(os.path.join(rot_exp_dir, 'test_metrics/dice_score.json'))\n",
    "    cur_sdices = load(os.path.join(rot_exp_dir, 'test_metrics/sdice_score.json'))\n",
    "    rot_labels += list(cur_labels.values())\n",
    "    rot_entr_labels += list(cur_entr_labels.values())\n",
    "    rot_dices += list(cur_dices.values())\n",
    "    rot_sdices += list(cur_sdices.values())\n",
    "    \n",
    "real_dice = np.mean(rot_dices)\n",
    "real_sdice = np.mean(rot_sdices)\n",
    "print(f'Dice:\\t{real_dice:.4f}')#'\\tdrop:\\t{true_dice - real_dice:.4f}')\n",
    "print(f'SDice:\\t{real_sdice:.4f}')#'\\tdrop:\\t{true_sdice - real_sdice:.4f}')"
   ]
  },
  {
   "cell_type": "code",
   "execution_count": 32,
   "id": "0222a0c0",
   "metadata": {},
   "outputs": [],
   "source": [
    "from neurodata.lits import LiTS\n",
    "\n",
    "import matplotlib.pyplot as plt\n",
    "%matplotlib inline"
   ]
  },
  {
   "cell_type": "code",
   "execution_count": 35,
   "id": "4d0bfffc",
   "metadata": {},
   "outputs": [],
   "source": [
    "base_dir = '/mount/sdc/experiments/ood_playground/lungs/lits_pred2/experiment_0/test_predictions/'\n",
    "dataset = LiTS()"
   ]
  },
  {
   "cell_type": "code",
   "execution_count": 36,
   "id": "fc62c60e",
   "metadata": {},
   "outputs": [],
   "source": [
    "uid = 'lits-test-0'\n",
    "prediction = load(os.path.join(base_dir, uid) + '.npy.gz')\n",
    "image = dataset.image(uid)"
   ]
  },
  {
   "cell_type": "code",
   "execution_count": 37,
   "id": "257ae9c3",
   "metadata": {},
   "outputs": [
    {
     "data": {
      "text/plain": [
       "((512, 512, 163), (512, 512, 163))"
      ]
     },
     "execution_count": 37,
     "metadata": {},
     "output_type": "execute_result"
    }
   ],
   "source": [
    "prediction.shape, image.shape"
   ]
  },
  {
   "cell_type": "code",
   "execution_count": 38,
   "id": "58667bce",
   "metadata": {},
   "outputs": [
    {
     "name": "stdout",
     "output_type": "stream",
     "text": [
      "axial indeces:\n"
     ]
    },
    {
     "data": {
      "image/png": "[encoded data removed]",
      "text/plain": [
       "<Figure size 576x576 with 4 Axes>"
      ]
     },
     "metadata": {
      "needs_background": "light"
     },
     "output_type": "display_data"
    }
   ],
   "source": [
    "K = 2\n",
    "ss = [14, 44]\n",
    "print('axial indeces:')\n",
    "\n",
    "img = image\n",
    "segm = prediction > 0.5\n",
    "# targ = target\n",
    "\n",
    "lim1 = 0\n",
    "lim2 = segm.shape[0]\n",
    "lim3 = 0\n",
    "lim4 = segm.shape[1]\n",
    "\n",
    "# lim1 = 50\n",
    "# lim2 = 200\n",
    "# lim3 = 50\n",
    "# lim4 = 200\n",
    "\n",
    "fig, ax = plt.subplots(nrows=2, ncols=K, figsize=(4 * K, 4 * 2))\n",
    "row = 0\n",
    "for i, s in enumerate(ss):\n",
    "    axial = img[..., s][lim1:lim2, lim3:lim4]\n",
    "    ax[row, i].imshow(axial, cmap='gray')\n",
    "    ax[row, i].axis('off')\n",
    "\n",
    "row = 1\n",
    "for i, s in enumerate(ss):\n",
    "    axial = segm[..., s][lim1:lim2, lim3:lim4]\n",
    "    ax[row, i].imshow(axial, cmap='gray')\n",
    "    ax[row, i].axis('off')\n",
    "    \n",
    "# row = 2\n",
    "# for i, s in enumerate(ss):\n",
    "#     axial = targ[..., s][lim1:lim2, lim3:lim4]\n",
    "#     ax[row, i].imshow(axial, cmap='gray')\n",
    "#     ax[row, i].axis('off')"
   ]
  },
  {
   "cell_type": "code",
   "execution_count": 21,
   "id": "5de1deda",
   "metadata": {
    "collapsed": true
   },
   "outputs": [
    {
     "name": "stdout",
     "output_type": "stream",
     "text": [
      "0 64177\n",
      "1 64527\n",
      "2 64666\n",
      "3 64759\n",
      "4 64763\n",
      "5 64731\n",
      "6 64744\n",
      "7 64701\n",
      "8 64579\n",
      "9 64478\n",
      "10 64501\n",
      "11 64447\n",
      "12 64244\n",
      "13 64252\n",
      "14 64189\n",
      "15 63955\n",
      "16 63662\n",
      "17 63347\n",
      "18 62967\n",
      "19 62441\n",
      "20 61553\n",
      "21 57929\n",
      "22 54294\n",
      "23 51727\n",
      "24 49354\n",
      "25 47327\n",
      "26 44850\n",
      "27 42115\n",
      "28 36647\n",
      "29 29914\n",
      "30 23642\n",
      "31 18608\n",
      "32 15258\n",
      "33 12212\n",
      "34 9798\n",
      "35 7787\n",
      "36 6066\n",
      "37 4629\n",
      "38 3308\n",
      "39 2320\n",
      "40 1499\n",
      "41 955\n",
      "42 615\n",
      "43 409\n",
      "44 159\n"
     ]
    }
   ],
   "source": [
    "for s in range(segm.shape[2]):\n",
    "    if segm[..., s].sum() > 0:\n",
    "        print(s, segm[..., s].sum())"
   ]
  },
  {
   "cell_type": "code",
   "execution_count": 39,
   "id": "8f158e5a",
   "metadata": {},
   "outputs": [
    {
     "data": {
      "text/plain": [
       "['boxes',\n",
       " 'fold',\n",
       " 'id',\n",
       " 'ids',\n",
       " 'image',\n",
       " 'resolution',\n",
       " 'segmentation',\n",
       " 'shape',\n",
       " 'spacing',\n",
       " 'subject']"
      ]
     },
     "execution_count": 39,
     "metadata": {},
     "output_type": "execute_result"
    }
   ],
   "source": [
    "dir(dataset)"
   ]
  },
  {
   "cell_type": "code",
   "execution_count": 41,
   "id": "5a0c5268",
   "metadata": {},
   "outputs": [
    {
     "data": {
      "text/plain": [
       "{'liver': [136, 68, 22, 377, 312, 69],\n",
       " 'kidney-r': [253, 130, 44, 348, 213, 79],\n",
       " 'kidney-l': [269, 304, 36, 355, 394, 73],\n",
       " 'femur-r': [237, 104, 123, 305, 172, 138],\n",
       " 'femur-l': [244, 343, 125, 311, 410, 139],\n",
       " 'bladder': [180, 194, 118, 319, 315, 139],\n",
       " 'heart': [141, 212, 1, 272, 351, 30],\n",
       " 'spleen': [247, 331, 29, 358, 442, 54],\n",
       " 'pancreas': [193, 217, 41, 260, 346, 63]}"
      ]
     },
     "execution_count": 41,
     "metadata": {},
     "output_type": "execute_result"
    }
   ],
   "source": [
    "dataset.boxes(uid)"
   ]
  },
  {
   "cell_type": "code",
   "execution_count": null,
   "id": "44875b99",
   "metadata": {},
   "outputs": [],
   "source": []
  }
 ],
 "metadata": {
  "kernelspec": {
   "display_name": "Python 3 (ipykernel)",
   "language": "python",
   "name": "python3"
  },
  "language_info": {
   "codemirror_mode": {
    "name": "ipython",
    "version": 3
   },
   "file_extension": ".py",
   "mimetype": "text/x-python",
   "name": "python",
   "nbconvert_exporter": "python",
   "pygments_lexer": "ipython3",
   "version": "3.9.5"
  }
 },
 "nbformat": 4,
 "nbformat_minor": 5
}
